{
 "cells": [
  {
   "cell_type": "markdown",
   "metadata": {},
   "source": [
    "# Import Libraries and Datasets"
   ]
  },
  {
   "cell_type": "code",
   "execution_count": 3,
   "metadata": {},
   "outputs": [],
   "source": [
    "import os\n",
    "import pandas as pd\n",
    "import numpy as np\n",
    "from matplotlib import pyplot as plt\n",
    "import seaborn as sns"
   ]
  },
  {
   "cell_type": "code",
   "execution_count": 10,
   "metadata": {},
   "outputs": [
    {
     "name": "stdout",
     "output_type": "stream",
     "text": [
      "train_wildfire: 15750 images\n",
      "train_nowildfire: 14500 images\n",
      "test_wildfire: 3480 images\n",
      "test_nowildfire: 2820 images\n",
      "valid_wildfire: 3480 images\n",
      "valid_nowildfire: 2820 images\n"
     ]
    }
   ],
   "source": [
    "# Load paths in a dict for train, test, valid folders with wildfire and nowildfire images \n",
    "\n",
    "images_path = '/Users/silvanoquarto/Desktop/PROJECTS/Data_Wildfire_Project/'\n",
    "splits = ['train', 'test', 'valid']\n",
    "labels = ['wildfire', 'nowildfire']\n",
    "\n",
    "image_paths = {f\"{split}_{category}\": [] for split in splits for category in labels}\n",
    "\n",
    "for split in splits:\n",
    "    for category in labels:\n",
    "        path = os.path.join(images_path, split, category)\n",
    "        image_files = os.listdir(path)\n",
    "        full_paths = [os.path.join(path, img) for img in image_files]\n",
    "        image_paths[f\"{split}_{category}\"].extend(full_paths)\n",
    "\n",
    "for key, paths in image_paths.items():\n",
    "    print(f\"{key}: {len(paths)} images\")"
   ]
  },
  {
   "cell_type": "markdown",
   "metadata": {},
   "source": [
    "# Data overview about datasets statistcs"
   ]
  },
  {
   "cell_type": "code",
   "execution_count": null,
   "metadata": {},
   "outputs": [],
   "source": []
  },
  {
   "cell_type": "markdown",
   "metadata": {},
   "source": [
    "# Data Visualization"
   ]
  },
  {
   "cell_type": "code",
   "execution_count": null,
   "metadata": {},
   "outputs": [],
   "source": []
  },
  {
   "cell_type": "markdown",
   "metadata": {},
   "source": [
    "# Image Quality Analysis"
   ]
  },
  {
   "cell_type": "code",
   "execution_count": null,
   "metadata": {},
   "outputs": [],
   "source": []
  },
  {
   "cell_type": "markdown",
   "metadata": {},
   "source": [
    "# Data Augmentation"
   ]
  },
  {
   "cell_type": "markdown",
   "metadata": {},
   "source": [
    "# Feature Engineering"
   ]
  },
  {
   "cell_type": "markdown",
   "metadata": {},
   "source": []
  }
 ],
 "metadata": {
  "kernelspec": {
   "display_name": ".venv",
   "language": "python",
   "name": "python3"
  },
  "language_info": {
   "codemirror_mode": {
    "name": "ipython",
    "version": 3
   },
   "file_extension": ".py",
   "mimetype": "text/x-python",
   "name": "python",
   "nbconvert_exporter": "python",
   "pygments_lexer": "ipython3",
   "version": "3.11.9"
  }
 },
 "nbformat": 4,
 "nbformat_minor": 2
}
