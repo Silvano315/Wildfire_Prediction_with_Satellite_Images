{
 "cells": [
  {
   "cell_type": "markdown",
   "metadata": {},
   "source": [
    "# Import Libraries and Datasets"
   ]
  },
  {
   "cell_type": "code",
   "execution_count": 3,
   "metadata": {},
   "outputs": [],
   "source": [
    "import os\n",
    "import pandas as pd\n",
    "import numpy as np\n",
    "from matplotlib import pyplot as plt\n",
    "import seaborn as sns"
   ]
  },
  {
   "cell_type": "code",
   "execution_count": 6,
   "metadata": {},
   "outputs": [
    {
     "name": "stdout",
     "output_type": "stream",
     "text": [
      "\n",
      "Train set:\n",
      "Wildfire: 15750 images\n",
      "Nowildfire: 14500 images\n",
      "\n",
      "Test set:\n",
      "Wildfire: 3480 images\n",
      "Nowildfire: 2820 images\n",
      "\n",
      "Valid set:\n",
      "Wildfire: 3480 images\n",
      "Nowildfire: 2820 images\n",
      "\n",
      "Expected Train: 29994\n",
      "Expected Test: 6427\n",
      "Expected Validation: 6427\n"
     ]
    }
   ],
   "source": [
    "# Load paths for train, test, valid folders with wildfire and nowildfire images \n",
    "\n",
    "images_path = '/Users/silvanoquarto/Desktop/PROJECTS/Data_Wildfire_Project/'\n",
    "splits = ['train', 'test', 'valid']\n",
    "labels = ['wildfire', 'nowildfire']\n",
    "\n",
    "for split in splits:\n",
    "    print(f\"\\n{split.capitalize()} set:\")\n",
    "    for category in labels:\n",
    "        path = os.path.join(images_path, split, category)\n",
    "        print(f\"{category.capitalize()}: {len(os.listdir(path))} images\")\n",
    "\n",
    "train_ratio, test_ratio, val_ratio = 0.7, 0.15, 0.15\n",
    "total_images = 22710 + 20140\n",
    "print(f\"\\nExpected Train: {int(total_images * train_ratio)}\")\n",
    "print(f\"Expected Test: {int(total_images * test_ratio)}\")\n",
    "print(f\"Expected Validation: {int(total_images * val_ratio)}\")"
   ]
  },
  {
   "cell_type": "markdown",
   "metadata": {},
   "source": [
    "# Data overview about datasets statistcs"
   ]
  },
  {
   "cell_type": "code",
   "execution_count": null,
   "metadata": {},
   "outputs": [],
   "source": []
  },
  {
   "cell_type": "markdown",
   "metadata": {},
   "source": [
    "# Data Visualization"
   ]
  },
  {
   "cell_type": "code",
   "execution_count": null,
   "metadata": {},
   "outputs": [],
   "source": []
  },
  {
   "cell_type": "markdown",
   "metadata": {},
   "source": [
    "# Image Quality Analysis"
   ]
  },
  {
   "cell_type": "code",
   "execution_count": null,
   "metadata": {},
   "outputs": [],
   "source": []
  },
  {
   "cell_type": "markdown",
   "metadata": {},
   "source": [
    "# Data Augmentation"
   ]
  },
  {
   "cell_type": "markdown",
   "metadata": {},
   "source": [
    "# Feature Engineering"
   ]
  },
  {
   "cell_type": "markdown",
   "metadata": {},
   "source": []
  }
 ],
 "metadata": {
  "kernelspec": {
   "display_name": ".venv",
   "language": "python",
   "name": "python3"
  },
  "language_info": {
   "codemirror_mode": {
    "name": "ipython",
    "version": 3
   },
   "file_extension": ".py",
   "mimetype": "text/x-python",
   "name": "python",
   "nbconvert_exporter": "python",
   "pygments_lexer": "ipython3",
   "version": "3.11.9"
  }
 },
 "nbformat": 4,
 "nbformat_minor": 2
}
