{
 "cells": [
  {
   "cell_type": "markdown",
   "metadata": {},
   "source": [
    "# Import Libraries and Datasets"
   ]
  },
  {
   "cell_type": "code",
   "execution_count": 1,
   "metadata": {},
   "outputs": [],
   "source": [
    "import os\n",
    "import pandas as pd\n",
    "import numpy as np\n",
    "from matplotlib import pyplot as plt\n",
    "import seaborn as sns\n",
    "import tensorflow as tf\n",
    "\n",
    "from src.constants import IMAGE_SIZE, CHANNELS, BATCH_SIZE, EPOCHS\n",
    "from src.preprocessing_functions import create_generator\n",
    "from src.models import build_cnn_model, check_gpu, train_cnn_model, plot_training_validation_history, evaluate_train_test_performance"
   ]
  },
  {
   "cell_type": "code",
   "execution_count": 2,
   "metadata": {},
   "outputs": [
    {
     "name": "stdout",
     "output_type": "stream",
     "text": [
      "- Train set for wildfire uploaded correctly!!\n",
      "- Train set for nowildfire uploaded correctly!!\n",
      "- Test set for wildfire uploaded correctly!!\n",
      "- Test set for nowildfire uploaded correctly!!\n",
      "- Valid set for wildfire uploaded correctly!!\n",
      "- Valid set for nowildfire uploaded correctly!!\n"
     ]
    }
   ],
   "source": [
    "# Load paths in a dict for train, test, valid folders with wildfire and nowildfire images \n",
    "\n",
    "images_path = '/Users/silvanoquarto/Desktop/PROJECTS/Data_Wildfire_Project'\n",
    "splits = ['train', 'test', 'valid']\n",
    "labels = ['wildfire', 'nowildfire']\n",
    "\n",
    "image_paths = {f\"{split}_{label}\": [] for split in splits for label in labels}\n",
    "\n",
    "for split in splits:\n",
    "    for label in labels:\n",
    "        path = os.path.join(images_path, split, label)\n",
    "        if os.path.exists(path):  \n",
    "            image_files = os.listdir(path)\n",
    "            full_paths = [os.path.join(path, img) for img in image_files]\n",
    "            image_paths[f\"{split}_{label}\"].extend(full_paths)\n",
    "            print(f\"- {split.capitalize()} set for {label} uploaded correctly!!\")\n",
    "        else:\n",
    "            print(f\"Warning: {path} does not exist :(\")"
   ]
  },
  {
   "cell_type": "markdown",
   "metadata": {},
   "source": [
    "# IMAGE PREPROCESSING"
   ]
  },
  {
   "cell_type": "code",
   "execution_count": 3,
   "metadata": {},
   "outputs": [
    {
     "name": "stdout",
     "output_type": "stream",
     "text": [
      "Data augumentation and normalization for training...\n",
      "Found 30249 images belonging to 2 classes.\n",
      "Data augumentation and normalization for validation...\n",
      "Found 6300 images belonging to 2 classes.\n",
      "Data augumentation and normalization for test...\n",
      "Found 6299 images belonging to 2 classes.\n"
     ]
    }
   ],
   "source": [
    "# Data augumentation and normalization\n",
    " \n",
    "print('Data augumentation and normalization for training...')\n",
    "train_generator = create_generator(images_path, 'train')\n",
    "\n",
    "print('Data augumentation and normalization for validation...')\n",
    "validation_generator = create_generator(images_path, 'valid')\n",
    "\n",
    "print('Data augumentation and normalization for test...')\n",
    "test_generator = create_generator(images_path, 'test')"
   ]
  },
  {
   "cell_type": "markdown",
   "metadata": {},
   "source": [
    "# Build and Train CNN model from scratch"
   ]
  },
  {
   "cell_type": "markdown",
   "metadata": {},
   "source": [
    "## Build model"
   ]
  },
  {
   "cell_type": "code",
   "execution_count": 4,
   "metadata": {},
   "outputs": [
    {
     "name": "stderr",
     "output_type": "stream",
     "text": [
      "2024-06-24 17:08:26.737376: I metal_plugin/src/device/metal_device.cc:1154] Metal device set to: Apple M1\n",
      "2024-06-24 17:08:26.737400: I metal_plugin/src/device/metal_device.cc:296] systemMemory: 8.00 GB\n",
      "2024-06-24 17:08:26.737403: I metal_plugin/src/device/metal_device.cc:313] maxCacheSize: 2.67 GB\n",
      "2024-06-24 17:08:26.737620: I tensorflow/core/common_runtime/pluggable_device/pluggable_device_factory.cc:306] Could not identify NUMA node of platform GPU ID 0, defaulting to 0. Your kernel may not have been built with NUMA support.\n",
      "2024-06-24 17:08:26.737982: I tensorflow/core/common_runtime/pluggable_device/pluggable_device_factory.cc:272] Created TensorFlow device (/job:localhost/replica:0/task:0/device:GPU:0 with 0 MB memory) -> physical PluggableDevice (device: 0, name: METAL, pci bus id: <undefined>)\n",
      "WARNING:absl:At this time, the v2.11+ optimizer `tf.keras.optimizers.Adam` runs slowly on M1/M2 Macs, please use the legacy Keras optimizer instead, located at `tf.keras.optimizers.legacy.Adam`.\n"
     ]
    },
    {
     "name": "stdout",
     "output_type": "stream",
     "text": [
      "Model: \"sequential\"\n",
      "_________________________________________________________________\n",
      " Layer (type)                Output Shape              Param #   \n",
      "=================================================================\n",
      " conv2d (Conv2D)             (None, 348, 348, 32)      896       \n",
      "                                                                 \n",
      " max_pooling2d (MaxPooling2  (None, 174, 174, 32)      0         \n",
      " D)                                                              \n",
      "                                                                 \n",
      " conv2d_1 (Conv2D)           (None, 172, 172, 64)      18496     \n",
      "                                                                 \n",
      " max_pooling2d_1 (MaxPoolin  (None, 86, 86, 64)        0         \n",
      " g2D)                                                            \n",
      "                                                                 \n",
      " conv2d_2 (Conv2D)           (None, 84, 84, 128)       73856     \n",
      "                                                                 \n",
      " max_pooling2d_2 (MaxPoolin  (None, 42, 42, 128)       0         \n",
      " g2D)                                                            \n",
      "                                                                 \n",
      " flatten (Flatten)           (None, 225792)            0         \n",
      "                                                                 \n",
      " dense (Dense)               (None, 512)               115606016 \n",
      "                                                                 \n",
      " dropout (Dropout)           (None, 512)               0         \n",
      "                                                                 \n",
      " dense_1 (Dense)             (None, 1)                 513       \n",
      "                                                                 \n",
      "=================================================================\n",
      "Total params: 115699777 (441.36 MB)\n",
      "Trainable params: 115699777 (441.36 MB)\n",
      "Non-trainable params: 0 (0.00 Byte)\n",
      "_________________________________________________________________\n"
     ]
    }
   ],
   "source": [
    "model = build_cnn_model(input_shape=(IMAGE_SIZE, IMAGE_SIZE, CHANNELS), num_output=1, learning_rate=0.001, dropout_rate=0.5)\n",
    "\n",
    "model.summary()"
   ]
  },
  {
   "cell_type": "markdown",
   "metadata": {},
   "source": [
    "## Train model"
   ]
  },
  {
   "cell_type": "code",
   "execution_count": 5,
   "metadata": {},
   "outputs": [
    {
     "name": "stdout",
     "output_type": "stream",
     "text": [
      "\n",
      "All Physical Devices: [PhysicalDevice(name='/physical_device:CPU:0', device_type='CPU'), PhysicalDevice(name='/physical_device:GPU:0', device_type='GPU')]\n",
      "GPU details: {'device_name': 'METAL'}\n",
      "GPU available: True\n"
     ]
    }
   ],
   "source": [
    "# Check if GPU is available\n",
    "\n",
    "gpu_available = check_gpu()\n",
    "print(\"GPU available:\", gpu_available)"
   ]
  },
  {
   "cell_type": "code",
   "execution_count": 7,
   "metadata": {},
   "outputs": [
    {
     "name": "stdout",
     "output_type": "stream",
     "text": [
      "Epoch 1/5\n"
     ]
    },
    {
     "name": "stderr",
     "output_type": "stream",
     "text": [
      "2024-06-24 17:08:47.231626: I tensorflow/core/grappler/optimizers/custom_graph_optimizer_registry.cc:117] Plugin optimizer for device_type GPU is enabled.\n",
      "2024-06-24 17:08:47.287568: E tensorflow/core/grappler/optimizers/meta_optimizer.cc:961] model_pruner failed: INVALID_ARGUMENT: Graph does not contain terminal node Adam/AssignAddVariableOp.\n"
     ]
    },
    {
     "ename": "ResourceExhaustedError",
     "evalue": "Graph execution error:\n\nDetected at node sequential/conv2d/Relu defined at (most recent call last):\n  File \"<frozen runpy>\", line 198, in _run_module_as_main\n\n  File \"<frozen runpy>\", line 88, in _run_code\n\n  File \"/Users/silvanoquarto/Desktop/PROJECTS/Wildfire_Prediction_with_Satellite_Images/.venv/lib/python3.11/site-packages/ipykernel_launcher.py\", line 18, in <module>\n\n  File \"/Users/silvanoquarto/Desktop/PROJECTS/Wildfire_Prediction_with_Satellite_Images/.venv/lib/python3.11/site-packages/traitlets/config/application.py\", line 1075, in launch_instance\n\n  File \"/Users/silvanoquarto/Desktop/PROJECTS/Wildfire_Prediction_with_Satellite_Images/.venv/lib/python3.11/site-packages/ipykernel/kernelapp.py\", line 739, in start\n\n  File \"/Users/silvanoquarto/Desktop/PROJECTS/Wildfire_Prediction_with_Satellite_Images/.venv/lib/python3.11/site-packages/tornado/platform/asyncio.py\", line 205, in start\n\n  File \"/opt/homebrew/Cellar/python@3.11/3.11.9/Frameworks/Python.framework/Versions/3.11/lib/python3.11/asyncio/base_events.py\", line 608, in run_forever\n\n  File \"/opt/homebrew/Cellar/python@3.11/3.11.9/Frameworks/Python.framework/Versions/3.11/lib/python3.11/asyncio/base_events.py\", line 1936, in _run_once\n\n  File \"/opt/homebrew/Cellar/python@3.11/3.11.9/Frameworks/Python.framework/Versions/3.11/lib/python3.11/asyncio/events.py\", line 84, in _run\n\n  File \"/Users/silvanoquarto/Desktop/PROJECTS/Wildfire_Prediction_with_Satellite_Images/.venv/lib/python3.11/site-packages/ipykernel/kernelbase.py\", line 545, in dispatch_queue\n\n  File \"/Users/silvanoquarto/Desktop/PROJECTS/Wildfire_Prediction_with_Satellite_Images/.venv/lib/python3.11/site-packages/ipykernel/kernelbase.py\", line 534, in process_one\n\n  File \"/Users/silvanoquarto/Desktop/PROJECTS/Wildfire_Prediction_with_Satellite_Images/.venv/lib/python3.11/site-packages/ipykernel/kernelbase.py\", line 437, in dispatch_shell\n\n  File \"/Users/silvanoquarto/Desktop/PROJECTS/Wildfire_Prediction_with_Satellite_Images/.venv/lib/python3.11/site-packages/ipykernel/ipkernel.py\", line 362, in execute_request\n\n  File \"/Users/silvanoquarto/Desktop/PROJECTS/Wildfire_Prediction_with_Satellite_Images/.venv/lib/python3.11/site-packages/ipykernel/kernelbase.py\", line 778, in execute_request\n\n  File \"/Users/silvanoquarto/Desktop/PROJECTS/Wildfire_Prediction_with_Satellite_Images/.venv/lib/python3.11/site-packages/ipykernel/ipkernel.py\", line 449, in do_execute\n\n  File \"/Users/silvanoquarto/Desktop/PROJECTS/Wildfire_Prediction_with_Satellite_Images/.venv/lib/python3.11/site-packages/ipykernel/zmqshell.py\", line 549, in run_cell\n\n  File \"/Users/silvanoquarto/Desktop/PROJECTS/Wildfire_Prediction_with_Satellite_Images/.venv/lib/python3.11/site-packages/IPython/core/interactiveshell.py\", line 3075, in run_cell\n\n  File \"/Users/silvanoquarto/Desktop/PROJECTS/Wildfire_Prediction_with_Satellite_Images/.venv/lib/python3.11/site-packages/IPython/core/interactiveshell.py\", line 3130, in _run_cell\n\n  File \"/Users/silvanoquarto/Desktop/PROJECTS/Wildfire_Prediction_with_Satellite_Images/.venv/lib/python3.11/site-packages/IPython/core/async_helpers.py\", line 129, in _pseudo_sync_runner\n\n  File \"/Users/silvanoquarto/Desktop/PROJECTS/Wildfire_Prediction_with_Satellite_Images/.venv/lib/python3.11/site-packages/IPython/core/interactiveshell.py\", line 3334, in run_cell_async\n\n  File \"/Users/silvanoquarto/Desktop/PROJECTS/Wildfire_Prediction_with_Satellite_Images/.venv/lib/python3.11/site-packages/IPython/core/interactiveshell.py\", line 3517, in run_ast_nodes\n\n  File \"/Users/silvanoquarto/Desktop/PROJECTS/Wildfire_Prediction_with_Satellite_Images/.venv/lib/python3.11/site-packages/IPython/core/interactiveshell.py\", line 3577, in run_code\n\n  File \"/var/folders/8d/09j2zdrx7klfl7nffqz630000000gn/T/ipykernel_54138/3362930104.py\", line 1, in <module>\n\n  File \"/Users/silvanoquarto/Desktop/PROJECTS/Wildfire_Prediction_with_Satellite_Images/src/models.py\", line 57, in train_cnn_model\n\n  File \"/Users/silvanoquarto/Desktop/PROJECTS/Wildfire_Prediction_with_Satellite_Images/.venv/lib/python3.11/site-packages/keras/src/utils/traceback_utils.py\", line 65, in error_handler\n\n  File \"/Users/silvanoquarto/Desktop/PROJECTS/Wildfire_Prediction_with_Satellite_Images/.venv/lib/python3.11/site-packages/keras/src/engine/training.py\", line 1807, in fit\n\n  File \"/Users/silvanoquarto/Desktop/PROJECTS/Wildfire_Prediction_with_Satellite_Images/.venv/lib/python3.11/site-packages/keras/src/engine/training.py\", line 1401, in train_function\n\n  File \"/Users/silvanoquarto/Desktop/PROJECTS/Wildfire_Prediction_with_Satellite_Images/.venv/lib/python3.11/site-packages/keras/src/engine/training.py\", line 1384, in step_function\n\n  File \"/Users/silvanoquarto/Desktop/PROJECTS/Wildfire_Prediction_with_Satellite_Images/.venv/lib/python3.11/site-packages/keras/src/engine/training.py\", line 1373, in run_step\n\n  File \"/Users/silvanoquarto/Desktop/PROJECTS/Wildfire_Prediction_with_Satellite_Images/.venv/lib/python3.11/site-packages/keras/src/engine/training.py\", line 1150, in train_step\n\n  File \"/Users/silvanoquarto/Desktop/PROJECTS/Wildfire_Prediction_with_Satellite_Images/.venv/lib/python3.11/site-packages/keras/src/utils/traceback_utils.py\", line 65, in error_handler\n\n  File \"/Users/silvanoquarto/Desktop/PROJECTS/Wildfire_Prediction_with_Satellite_Images/.venv/lib/python3.11/site-packages/keras/src/engine/training.py\", line 590, in __call__\n\n  File \"/Users/silvanoquarto/Desktop/PROJECTS/Wildfire_Prediction_with_Satellite_Images/.venv/lib/python3.11/site-packages/keras/src/utils/traceback_utils.py\", line 65, in error_handler\n\n  File \"/Users/silvanoquarto/Desktop/PROJECTS/Wildfire_Prediction_with_Satellite_Images/.venv/lib/python3.11/site-packages/keras/src/engine/base_layer.py\", line 1149, in __call__\n\n  File \"/Users/silvanoquarto/Desktop/PROJECTS/Wildfire_Prediction_with_Satellite_Images/.venv/lib/python3.11/site-packages/keras/src/utils/traceback_utils.py\", line 96, in error_handler\n\n  File \"/Users/silvanoquarto/Desktop/PROJECTS/Wildfire_Prediction_with_Satellite_Images/.venv/lib/python3.11/site-packages/keras/src/engine/sequential.py\", line 398, in call\n\n  File \"/Users/silvanoquarto/Desktop/PROJECTS/Wildfire_Prediction_with_Satellite_Images/.venv/lib/python3.11/site-packages/keras/src/engine/functional.py\", line 515, in call\n\n  File \"/Users/silvanoquarto/Desktop/PROJECTS/Wildfire_Prediction_with_Satellite_Images/.venv/lib/python3.11/site-packages/keras/src/engine/functional.py\", line 672, in _run_internal_graph\n\n  File \"/Users/silvanoquarto/Desktop/PROJECTS/Wildfire_Prediction_with_Satellite_Images/.venv/lib/python3.11/site-packages/keras/src/utils/traceback_utils.py\", line 65, in error_handler\n\n  File \"/Users/silvanoquarto/Desktop/PROJECTS/Wildfire_Prediction_with_Satellite_Images/.venv/lib/python3.11/site-packages/keras/src/engine/base_layer.py\", line 1149, in __call__\n\n  File \"/Users/silvanoquarto/Desktop/PROJECTS/Wildfire_Prediction_with_Satellite_Images/.venv/lib/python3.11/site-packages/keras/src/utils/traceback_utils.py\", line 96, in error_handler\n\n  File \"/Users/silvanoquarto/Desktop/PROJECTS/Wildfire_Prediction_with_Satellite_Images/.venv/lib/python3.11/site-packages/keras/src/layers/convolutional/base_conv.py\", line 321, in call\n\n  File \"/Users/silvanoquarto/Desktop/PROJECTS/Wildfire_Prediction_with_Satellite_Images/.venv/lib/python3.11/site-packages/keras/src/activations.py\", line 306, in relu\n\n  File \"/Users/silvanoquarto/Desktop/PROJECTS/Wildfire_Prediction_with_Satellite_Images/.venv/lib/python3.11/site-packages/keras/src/backend.py\", line 5395, in relu\n\nOOM when allocating tensor with shape[300,348,348,32] and type float on /job:localhost/replica:0/task:0/device:GPU:0 by allocator Simple allocator\n\t [[{{node sequential/conv2d/Relu}}]]\nHint: If you want to see a list of allocated tensors when OOM happens, add report_tensor_allocations_upon_oom to RunOptions for current allocation info. This isn't available when running in Eager mode.\n [Op:__inference_train_function_1600]",
     "output_type": "error",
     "traceback": [
      "\u001b[0;31m---------------------------------------------------------------------------\u001b[0m",
      "\u001b[0;31mResourceExhaustedError\u001b[0m                    Traceback (most recent call last)",
      "Cell \u001b[0;32mIn[7], line 1\u001b[0m\n\u001b[0;32m----> 1\u001b[0m history \u001b[38;5;241m=\u001b[39m \u001b[43mtrain_cnn_model\u001b[49m\u001b[43m(\u001b[49m\n\u001b[1;32m      2\u001b[0m \u001b[43m    \u001b[49m\u001b[43mmodel\u001b[49m\u001b[43m,\u001b[49m\n\u001b[1;32m      3\u001b[0m \u001b[43m    \u001b[49m\u001b[43mtrain_generator\u001b[49m\u001b[43m,\u001b[49m\n\u001b[1;32m      4\u001b[0m \u001b[43m    \u001b[49m\u001b[43mvalidation_generator\u001b[49m\u001b[43m,\u001b[49m\n\u001b[1;32m      5\u001b[0m \u001b[43m    \u001b[49m\u001b[43mepochs\u001b[49m\u001b[38;5;241;43m=\u001b[39;49m\u001b[43mEPOCHS\u001b[49m\u001b[43m,\u001b[49m\n\u001b[1;32m      6\u001b[0m \u001b[43m    \u001b[49m\u001b[43mbatch_size\u001b[49m\u001b[38;5;241;43m=\u001b[39;49m\u001b[38;5;241;43m16\u001b[39;49m\u001b[43m,\u001b[49m\n\u001b[1;32m      7\u001b[0m \u001b[43m    \u001b[49m\u001b[43mverbose\u001b[49m\u001b[38;5;241;43m=\u001b[39;49m\u001b[38;5;241;43m1\u001b[39;49m\n\u001b[1;32m      8\u001b[0m \u001b[43m)\u001b[49m\n",
      "File \u001b[0;32m~/Desktop/PROJECTS/Wildfire_Prediction_with_Satellite_Images/src/models.py:57\u001b[0m, in \u001b[0;36mtrain_cnn_model\u001b[0;34m(model, train_generator, validation_generator, epochs, steps_per_epoch, validation_steps, batch_size, verbose)\u001b[0m\n\u001b[1;32m     54\u001b[0m \u001b[38;5;28;01mif\u001b[39;00m validation_steps \u001b[38;5;129;01mis\u001b[39;00m \u001b[38;5;28;01mNone\u001b[39;00m:\n\u001b[1;32m     55\u001b[0m     validation_steps \u001b[38;5;241m=\u001b[39m \u001b[38;5;28mlen\u001b[39m(validation_generator)\n\u001b[0;32m---> 57\u001b[0m history \u001b[38;5;241m=\u001b[39m \u001b[43mmodel\u001b[49m\u001b[38;5;241;43m.\u001b[39;49m\u001b[43mfit\u001b[49m\u001b[43m(\u001b[49m\n\u001b[1;32m     58\u001b[0m \u001b[43m    \u001b[49m\u001b[43mtrain_generator\u001b[49m\u001b[43m,\u001b[49m\n\u001b[1;32m     59\u001b[0m \u001b[43m    \u001b[49m\u001b[43msteps_per_epoch\u001b[49m\u001b[38;5;241;43m=\u001b[39;49m\u001b[43msteps_per_epoch\u001b[49m\u001b[43m,\u001b[49m\n\u001b[1;32m     60\u001b[0m \u001b[43m    \u001b[49m\u001b[43mvalidation_data\u001b[49m\u001b[38;5;241;43m=\u001b[39;49m\u001b[43mvalidation_generator\u001b[49m\u001b[43m,\u001b[49m\n\u001b[1;32m     61\u001b[0m \u001b[43m    \u001b[49m\u001b[43mvalidation_steps\u001b[49m\u001b[38;5;241;43m=\u001b[39;49m\u001b[43mvalidation_steps\u001b[49m\u001b[43m,\u001b[49m\n\u001b[1;32m     62\u001b[0m \u001b[43m    \u001b[49m\u001b[43mepochs\u001b[49m\u001b[38;5;241;43m=\u001b[39;49m\u001b[43mepochs\u001b[49m\u001b[43m,\u001b[49m\n\u001b[1;32m     63\u001b[0m \u001b[43m    \u001b[49m\u001b[43mbatch_size\u001b[49m\u001b[38;5;241;43m=\u001b[39;49m\u001b[43mbatch_size\u001b[49m\u001b[43m,\u001b[49m\n\u001b[1;32m     64\u001b[0m \u001b[43m    \u001b[49m\u001b[43mverbose\u001b[49m\u001b[38;5;241;43m=\u001b[39;49m\u001b[43mverbose\u001b[49m\n\u001b[1;32m     65\u001b[0m \u001b[43m\u001b[49m\u001b[43m)\u001b[49m\n\u001b[1;32m     67\u001b[0m \u001b[38;5;28;01mreturn\u001b[39;00m history\n",
      "File \u001b[0;32m~/Desktop/PROJECTS/Wildfire_Prediction_with_Satellite_Images/.venv/lib/python3.11/site-packages/keras/src/utils/traceback_utils.py:70\u001b[0m, in \u001b[0;36mfilter_traceback.<locals>.error_handler\u001b[0;34m(*args, **kwargs)\u001b[0m\n\u001b[1;32m     67\u001b[0m     filtered_tb \u001b[38;5;241m=\u001b[39m _process_traceback_frames(e\u001b[38;5;241m.\u001b[39m__traceback__)\n\u001b[1;32m     68\u001b[0m     \u001b[38;5;66;03m# To get the full stack trace, call:\u001b[39;00m\n\u001b[1;32m     69\u001b[0m     \u001b[38;5;66;03m# `tf.debugging.disable_traceback_filtering()`\u001b[39;00m\n\u001b[0;32m---> 70\u001b[0m     \u001b[38;5;28;01mraise\u001b[39;00m e\u001b[38;5;241m.\u001b[39mwith_traceback(filtered_tb) \u001b[38;5;28;01mfrom\u001b[39;00m \u001b[38;5;28;01mNone\u001b[39;00m\n\u001b[1;32m     71\u001b[0m \u001b[38;5;28;01mfinally\u001b[39;00m:\n\u001b[1;32m     72\u001b[0m     \u001b[38;5;28;01mdel\u001b[39;00m filtered_tb\n",
      "File \u001b[0;32m~/Desktop/PROJECTS/Wildfire_Prediction_with_Satellite_Images/.venv/lib/python3.11/site-packages/tensorflow/python/eager/execute.py:53\u001b[0m, in \u001b[0;36mquick_execute\u001b[0;34m(op_name, num_outputs, inputs, attrs, ctx, name)\u001b[0m\n\u001b[1;32m     51\u001b[0m \u001b[38;5;28;01mtry\u001b[39;00m:\n\u001b[1;32m     52\u001b[0m   ctx\u001b[38;5;241m.\u001b[39mensure_initialized()\n\u001b[0;32m---> 53\u001b[0m   tensors \u001b[38;5;241m=\u001b[39m pywrap_tfe\u001b[38;5;241m.\u001b[39mTFE_Py_Execute(ctx\u001b[38;5;241m.\u001b[39m_handle, device_name, op_name,\n\u001b[1;32m     54\u001b[0m                                       inputs, attrs, num_outputs)\n\u001b[1;32m     55\u001b[0m \u001b[38;5;28;01mexcept\u001b[39;00m core\u001b[38;5;241m.\u001b[39m_NotOkStatusException \u001b[38;5;28;01mas\u001b[39;00m e:\n\u001b[1;32m     56\u001b[0m   \u001b[38;5;28;01mif\u001b[39;00m name \u001b[38;5;129;01mis\u001b[39;00m \u001b[38;5;129;01mnot\u001b[39;00m \u001b[38;5;28;01mNone\u001b[39;00m:\n",
      "\u001b[0;31mResourceExhaustedError\u001b[0m: Graph execution error:\n\nDetected at node sequential/conv2d/Relu defined at (most recent call last):\n  File \"<frozen runpy>\", line 198, in _run_module_as_main\n\n  File \"<frozen runpy>\", line 88, in _run_code\n\n  File \"/Users/silvanoquarto/Desktop/PROJECTS/Wildfire_Prediction_with_Satellite_Images/.venv/lib/python3.11/site-packages/ipykernel_launcher.py\", line 18, in <module>\n\n  File \"/Users/silvanoquarto/Desktop/PROJECTS/Wildfire_Prediction_with_Satellite_Images/.venv/lib/python3.11/site-packages/traitlets/config/application.py\", line 1075, in launch_instance\n\n  File \"/Users/silvanoquarto/Desktop/PROJECTS/Wildfire_Prediction_with_Satellite_Images/.venv/lib/python3.11/site-packages/ipykernel/kernelapp.py\", line 739, in start\n\n  File \"/Users/silvanoquarto/Desktop/PROJECTS/Wildfire_Prediction_with_Satellite_Images/.venv/lib/python3.11/site-packages/tornado/platform/asyncio.py\", line 205, in start\n\n  File \"/opt/homebrew/Cellar/python@3.11/3.11.9/Frameworks/Python.framework/Versions/3.11/lib/python3.11/asyncio/base_events.py\", line 608, in run_forever\n\n  File \"/opt/homebrew/Cellar/python@3.11/3.11.9/Frameworks/Python.framework/Versions/3.11/lib/python3.11/asyncio/base_events.py\", line 1936, in _run_once\n\n  File \"/opt/homebrew/Cellar/python@3.11/3.11.9/Frameworks/Python.framework/Versions/3.11/lib/python3.11/asyncio/events.py\", line 84, in _run\n\n  File \"/Users/silvanoquarto/Desktop/PROJECTS/Wildfire_Prediction_with_Satellite_Images/.venv/lib/python3.11/site-packages/ipykernel/kernelbase.py\", line 545, in dispatch_queue\n\n  File \"/Users/silvanoquarto/Desktop/PROJECTS/Wildfire_Prediction_with_Satellite_Images/.venv/lib/python3.11/site-packages/ipykernel/kernelbase.py\", line 534, in process_one\n\n  File \"/Users/silvanoquarto/Desktop/PROJECTS/Wildfire_Prediction_with_Satellite_Images/.venv/lib/python3.11/site-packages/ipykernel/kernelbase.py\", line 437, in dispatch_shell\n\n  File \"/Users/silvanoquarto/Desktop/PROJECTS/Wildfire_Prediction_with_Satellite_Images/.venv/lib/python3.11/site-packages/ipykernel/ipkernel.py\", line 362, in execute_request\n\n  File \"/Users/silvanoquarto/Desktop/PROJECTS/Wildfire_Prediction_with_Satellite_Images/.venv/lib/python3.11/site-packages/ipykernel/kernelbase.py\", line 778, in execute_request\n\n  File \"/Users/silvanoquarto/Desktop/PROJECTS/Wildfire_Prediction_with_Satellite_Images/.venv/lib/python3.11/site-packages/ipykernel/ipkernel.py\", line 449, in do_execute\n\n  File \"/Users/silvanoquarto/Desktop/PROJECTS/Wildfire_Prediction_with_Satellite_Images/.venv/lib/python3.11/site-packages/ipykernel/zmqshell.py\", line 549, in run_cell\n\n  File \"/Users/silvanoquarto/Desktop/PROJECTS/Wildfire_Prediction_with_Satellite_Images/.venv/lib/python3.11/site-packages/IPython/core/interactiveshell.py\", line 3075, in run_cell\n\n  File \"/Users/silvanoquarto/Desktop/PROJECTS/Wildfire_Prediction_with_Satellite_Images/.venv/lib/python3.11/site-packages/IPython/core/interactiveshell.py\", line 3130, in _run_cell\n\n  File \"/Users/silvanoquarto/Desktop/PROJECTS/Wildfire_Prediction_with_Satellite_Images/.venv/lib/python3.11/site-packages/IPython/core/async_helpers.py\", line 129, in _pseudo_sync_runner\n\n  File \"/Users/silvanoquarto/Desktop/PROJECTS/Wildfire_Prediction_with_Satellite_Images/.venv/lib/python3.11/site-packages/IPython/core/interactiveshell.py\", line 3334, in run_cell_async\n\n  File \"/Users/silvanoquarto/Desktop/PROJECTS/Wildfire_Prediction_with_Satellite_Images/.venv/lib/python3.11/site-packages/IPython/core/interactiveshell.py\", line 3517, in run_ast_nodes\n\n  File \"/Users/silvanoquarto/Desktop/PROJECTS/Wildfire_Prediction_with_Satellite_Images/.venv/lib/python3.11/site-packages/IPython/core/interactiveshell.py\", line 3577, in run_code\n\n  File \"/var/folders/8d/09j2zdrx7klfl7nffqz630000000gn/T/ipykernel_54138/3362930104.py\", line 1, in <module>\n\n  File \"/Users/silvanoquarto/Desktop/PROJECTS/Wildfire_Prediction_with_Satellite_Images/src/models.py\", line 57, in train_cnn_model\n\n  File \"/Users/silvanoquarto/Desktop/PROJECTS/Wildfire_Prediction_with_Satellite_Images/.venv/lib/python3.11/site-packages/keras/src/utils/traceback_utils.py\", line 65, in error_handler\n\n  File \"/Users/silvanoquarto/Desktop/PROJECTS/Wildfire_Prediction_with_Satellite_Images/.venv/lib/python3.11/site-packages/keras/src/engine/training.py\", line 1807, in fit\n\n  File \"/Users/silvanoquarto/Desktop/PROJECTS/Wildfire_Prediction_with_Satellite_Images/.venv/lib/python3.11/site-packages/keras/src/engine/training.py\", line 1401, in train_function\n\n  File \"/Users/silvanoquarto/Desktop/PROJECTS/Wildfire_Prediction_with_Satellite_Images/.venv/lib/python3.11/site-packages/keras/src/engine/training.py\", line 1384, in step_function\n\n  File \"/Users/silvanoquarto/Desktop/PROJECTS/Wildfire_Prediction_with_Satellite_Images/.venv/lib/python3.11/site-packages/keras/src/engine/training.py\", line 1373, in run_step\n\n  File \"/Users/silvanoquarto/Desktop/PROJECTS/Wildfire_Prediction_with_Satellite_Images/.venv/lib/python3.11/site-packages/keras/src/engine/training.py\", line 1150, in train_step\n\n  File \"/Users/silvanoquarto/Desktop/PROJECTS/Wildfire_Prediction_with_Satellite_Images/.venv/lib/python3.11/site-packages/keras/src/utils/traceback_utils.py\", line 65, in error_handler\n\n  File \"/Users/silvanoquarto/Desktop/PROJECTS/Wildfire_Prediction_with_Satellite_Images/.venv/lib/python3.11/site-packages/keras/src/engine/training.py\", line 590, in __call__\n\n  File \"/Users/silvanoquarto/Desktop/PROJECTS/Wildfire_Prediction_with_Satellite_Images/.venv/lib/python3.11/site-packages/keras/src/utils/traceback_utils.py\", line 65, in error_handler\n\n  File \"/Users/silvanoquarto/Desktop/PROJECTS/Wildfire_Prediction_with_Satellite_Images/.venv/lib/python3.11/site-packages/keras/src/engine/base_layer.py\", line 1149, in __call__\n\n  File \"/Users/silvanoquarto/Desktop/PROJECTS/Wildfire_Prediction_with_Satellite_Images/.venv/lib/python3.11/site-packages/keras/src/utils/traceback_utils.py\", line 96, in error_handler\n\n  File \"/Users/silvanoquarto/Desktop/PROJECTS/Wildfire_Prediction_with_Satellite_Images/.venv/lib/python3.11/site-packages/keras/src/engine/sequential.py\", line 398, in call\n\n  File \"/Users/silvanoquarto/Desktop/PROJECTS/Wildfire_Prediction_with_Satellite_Images/.venv/lib/python3.11/site-packages/keras/src/engine/functional.py\", line 515, in call\n\n  File \"/Users/silvanoquarto/Desktop/PROJECTS/Wildfire_Prediction_with_Satellite_Images/.venv/lib/python3.11/site-packages/keras/src/engine/functional.py\", line 672, in _run_internal_graph\n\n  File \"/Users/silvanoquarto/Desktop/PROJECTS/Wildfire_Prediction_with_Satellite_Images/.venv/lib/python3.11/site-packages/keras/src/utils/traceback_utils.py\", line 65, in error_handler\n\n  File \"/Users/silvanoquarto/Desktop/PROJECTS/Wildfire_Prediction_with_Satellite_Images/.venv/lib/python3.11/site-packages/keras/src/engine/base_layer.py\", line 1149, in __call__\n\n  File \"/Users/silvanoquarto/Desktop/PROJECTS/Wildfire_Prediction_with_Satellite_Images/.venv/lib/python3.11/site-packages/keras/src/utils/traceback_utils.py\", line 96, in error_handler\n\n  File \"/Users/silvanoquarto/Desktop/PROJECTS/Wildfire_Prediction_with_Satellite_Images/.venv/lib/python3.11/site-packages/keras/src/layers/convolutional/base_conv.py\", line 321, in call\n\n  File \"/Users/silvanoquarto/Desktop/PROJECTS/Wildfire_Prediction_with_Satellite_Images/.venv/lib/python3.11/site-packages/keras/src/activations.py\", line 306, in relu\n\n  File \"/Users/silvanoquarto/Desktop/PROJECTS/Wildfire_Prediction_with_Satellite_Images/.venv/lib/python3.11/site-packages/keras/src/backend.py\", line 5395, in relu\n\nOOM when allocating tensor with shape[300,348,348,32] and type float on /job:localhost/replica:0/task:0/device:GPU:0 by allocator Simple allocator\n\t [[{{node sequential/conv2d/Relu}}]]\nHint: If you want to see a list of allocated tensors when OOM happens, add report_tensor_allocations_upon_oom to RunOptions for current allocation info. This isn't available when running in Eager mode.\n [Op:__inference_train_function_1600]"
     ]
    }
   ],
   "source": [
    "history = train_cnn_model(\n",
    "    model,\n",
    "    train_generator,\n",
    "    validation_generator,\n",
    "    epochs=EPOCHS,\n",
    "    batch_size=BATCH_SIZE,\n",
    "    verbose=1\n",
    ")"
   ]
  },
  {
   "cell_type": "markdown",
   "metadata": {},
   "source": [
    "# Model evaluation"
   ]
  },
  {
   "cell_type": "code",
   "execution_count": null,
   "metadata": {},
   "outputs": [],
   "source": [
    "# Training vs Validation performances\n",
    "\n",
    "plot_training_validation_history(history)"
   ]
  },
  {
   "cell_type": "code",
   "execution_count": null,
   "metadata": {},
   "outputs": [],
   "source": [
    "# Training vs Test performance\n",
    "\n",
    "evaluate_train_test_performance(model, train_generator, test_generator)"
   ]
  },
  {
   "cell_type": "markdown",
   "metadata": {},
   "source": [
    "# Save model"
   ]
  },
  {
   "cell_type": "code",
   "execution_count": null,
   "metadata": {},
   "outputs": [],
   "source": [
    "# Save the model\n",
    "\n",
    "model.save('wildfire_detection_cnn.h5')"
   ]
  }
 ],
 "metadata": {
  "kernelspec": {
   "display_name": ".venv",
   "language": "python",
   "name": "python3"
  },
  "language_info": {
   "codemirror_mode": {
    "name": "ipython",
    "version": 3
   },
   "file_extension": ".py",
   "mimetype": "text/x-python",
   "name": "python",
   "nbconvert_exporter": "python",
   "pygments_lexer": "ipython3",
   "version": "3.11.9"
  }
 },
 "nbformat": 4,
 "nbformat_minor": 2
}
